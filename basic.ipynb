{
 "cells": [
  {
   "cell_type": "code",
   "execution_count": 1,
   "metadata": {},
   "outputs": [
    {
     "name": "stdout",
     "output_type": "stream",
     "text": [
      "// TOPIC 1: VARIABLES\n"
     ]
    }
   ],
   "source": [
    "topic1 = \"VARIABLES\"\n",
    "print(\"// TOPIC 1: \" + topic1)"
   ]
  },
  {
   "cell_type": "code",
   "execution_count": 2,
   "metadata": {},
   "outputs": [],
   "source": [
    "a = 1       # integer\n",
    "b = 1.1     # float\n",
    "c = 1 + 2j  # complex number (a + bi)\n",
    "d = \"a\"     # string\n",
    "e = True    # boolean (True/False only)"
   ]
  },
  {
   "cell_type": "code",
   "execution_count": 3,
   "metadata": {},
   "outputs": [
    {
     "name": "stdout",
     "output_type": "stream",
     "text": [
      "// TOPIC 2: STRINGS\n"
     ]
    }
   ],
   "source": [
    "topic2 = \"STRINGS\"\n",
    "print(\"// TOPIC 2: \" + topic2)"
   ]
  },
  {
   "cell_type": "code",
   "execution_count": 4,
   "metadata": {},
   "outputs": [
    {
     "name": "stdout",
     "output_type": "stream",
     "text": [
      "6\n",
      "P\n",
      "n\n",
      "Pyt\n"
     ]
    }
   ],
   "source": [
    "x = \"Python\"\n",
    "length = len(x)\n",
    "print(length)\n",
    "print(x[0])\n",
    "print(x[-1])\n",
    "print(x[0:3])"
   ]
  },
  {
   "cell_type": "code",
   "execution_count": 5,
   "metadata": {},
   "outputs": [
    {
     "name": "stdout",
     "output_type": "stream",
     "text": [
      "GABRIELLE\n",
      "gabrielle\n",
      "2\n",
      "Gabryelle\n"
     ]
    }
   ],
   "source": [
    "x = \"Gabrielle\"\n",
    "print(x.upper())   # all letters will be transformed to upper-case \n",
    "print(x.lower())   # all letters will be transformed to lower-case\n",
    "print(x.find(\"b\")) #  Prints the index number of the letter \"b\"\n",
    "print(x.replace(\"i\", \"y\")) # This will replace the letter \"i\" to \"y\""
   ]
  },
  {
   "cell_type": "code",
   "execution_count": 6,
   "metadata": {},
   "outputs": [
    {
     "name": "stdout",
     "output_type": "stream",
     "text": [
      "// TOPIC 3: TYPE CONVERSION\n"
     ]
    }
   ],
   "source": [
    "topic3 = \"TYPE CONVERSION\"\n",
    "print(\"// TOPIC 3: \" + topic3)"
   ]
  },
  {
   "cell_type": "code",
   "execution_count": 7,
   "metadata": {},
   "outputs": [
    {
     "name": "stdout",
     "output_type": "stream",
     "text": [
      "49\n",
      "49.0\n",
      "True\n"
     ]
    }
   ],
   "source": [
    "x = 49\n",
    "print(int(x));\n",
    "print(float(x));\n",
    "print(bool(x))"
   ]
  },
  {
   "cell_type": "code",
   "execution_count": 8,
   "metadata": {},
   "outputs": [
    {
     "name": "stdout",
     "output_type": "stream",
     "text": [
      "// TOPIC 4: CONDITIONAL STATEMENTS\n"
     ]
    }
   ],
   "source": [
    "topic4 = \"CONDITIONAL STATEMENTS\"\n",
    "print(\"// TOPIC 4: \" + topic4)"
   ]
  },
  {
   "cell_type": "code",
   "execution_count": 9,
   "metadata": {},
   "outputs": [
    {
     "name": "stdout",
     "output_type": "stream",
     "text": [
      "c\n"
     ]
    }
   ],
   "source": [
    "if x == 1:\n",
    "    print(\"a\")\n",
    "elif x == 2:\n",
    "    print(\"b\")\n",
    "else:\n",
    "    print(\"c\")"
   ]
  },
  {
   "cell_type": "code",
   "execution_count": 10,
   "metadata": {},
   "outputs": [
    {
     "name": "stdout",
     "output_type": "stream",
     "text": [
      "// TOPIC 5: LOOPS\n"
     ]
    }
   ],
   "source": [
    "topic5 = \"LOOPS\"\n",
    "print(\"// TOPIC 5: \" + topic5)"
   ]
  },
  {
   "cell_type": "code",
   "execution_count": 11,
   "metadata": {},
   "outputs": [
    {
     "name": "stdout",
     "output_type": "stream",
     "text": [
      "1\n",
      "2\n",
      "3\n",
      "4\n",
      "5\n",
      "6\n",
      "7\n",
      "8\n",
      "9\n",
      "9\n"
     ]
    }
   ],
   "source": [
    "for n in range(1, 10): \n",
    "    print(n)\n",
    " \n",
    "while n < 10: \n",
    "    print(n)\n",
    "    n += 1"
   ]
  },
  {
   "cell_type": "code",
   "execution_count": 12,
   "metadata": {},
   "outputs": [
    {
     "name": "stdout",
     "output_type": "stream",
     "text": [
      "// TOPIC 6: FUNCTIONS\n"
     ]
    }
   ],
   "source": [
    "topic6 = \"FUNCTIONS\"\n",
    "print(\"// TOPIC 6: \" + topic6)"
   ]
  },
  {
   "cell_type": "code",
   "execution_count": 13,
   "metadata": {},
   "outputs": [],
   "source": [
    "def increment(number, by =1):\n",
    "    return number + by\n",
    "\n",
    "# Keyword arguments\n",
    "increment(2, by=1)\n",
    "\n",
    "# Variable number of arguments \n",
    "def multiply(*numbers): \n",
    "    for number in numbers: \n",
    "        print(number)"
   ]
  },
  {
   "cell_type": "code",
   "execution_count": 14,
   "metadata": {},
   "outputs": [
    {
     "name": "stdout",
     "output_type": "stream",
     "text": [
      "// TOPIC 7: LISTS\n"
     ]
    }
   ],
   "source": [
    "topic7 = \"LISTS\"\n",
    "print(\"// TOPIC 7: \" + topic7)"
   ]
  },
  {
   "cell_type": "code",
   "execution_count": 15,
   "metadata": {},
   "outputs": [],
   "source": [
    "# Creating lists\n",
    "letters = [\"a\", \"b\", \"c\", \"d\", \"e\"]\n",
    "matrix = [[0,1], [1,2], [2,3]]\n",
    "zeros = [0] * 5\n",
    "combined = zeros + letters\n",
    "numbers = list(range(20))"
   ]
  },
  {
   "cell_type": "code",
   "execution_count": 16,
   "metadata": {},
   "outputs": [
    {
     "name": "stdout",
     "output_type": "stream",
     "text": [
      "The letters are:  ['a', 'b', 'c', 'd', 'e']\n",
      "The first element of letters:  a\n",
      "The last element of letters:  e\n",
      "Slicing the list:  ['a', 'b', 'c']\n",
      "Removes the even elements:  ['a', 'c', 'e']\n",
      "Descending order:  ['e', 'd', 'c', 'b', 'a']\n"
     ]
    }
   ],
   "source": [
    "# Accessing items\n",
    "print(\"The letters are: \" , letters)                 # a b c d e \n",
    "print(\"The first element of letters: \", letters[0])  # a\n",
    "print(\"The last element of letters: \" , letters[-1]) # e \n",
    "print(\"Slicing the list: \", letters[0:3])            # a b c\n",
    "print(\"Removes the even elements: \", letters[::2])   # a c e \n",
    "print(\"Descending order: \", letters[::-1])           # e d c b a "
   ]
  },
  {
   "cell_type": "code",
   "execution_count": 19,
   "metadata": {},
   "outputs": [
    {
     "name": "stdout",
     "output_type": "stream",
     "text": [
      "['-', 'a', 'b', 'c', 'd', 'e', 'f', 'f', 'f']\n"
     ]
    }
   ],
   "source": [
    "# Adding items\n",
    "letters.append(\"f\")\n",
    "print(letters)"
   ]
  },
  {
   "cell_type": "code",
   "execution_count": 27,
   "metadata": {},
   "outputs": [
    {
     "name": "stdout",
     "output_type": "stream",
     "text": [
      "['e', 'd', 'c', 'b', 'a']\n"
     ]
    }
   ],
   "source": [
    "# Finding items\n",
    "if \"d\" in letters:\n",
    "    letters.index(\"d\")\n",
    "print(letters)"
   ]
  },
  {
   "cell_type": "code",
   "execution_count": 24,
   "metadata": {},
   "outputs": [
    {
     "name": "stdout",
     "output_type": "stream",
     "text": [
      "['e', 'd', 'c', 'b', 'a']\n"
     ]
    }
   ],
   "source": [
    "# Sorting lists = Descending order\n",
    "letters = [\"a\", \"b\", \"c\", \"d\", \"e\"]\n",
    "letters.sort()\n",
    "letters.sort(reverse=True)\n",
    "print(letters)"
   ]
  },
  {
   "cell_type": "code",
   "execution_count": 33,
   "metadata": {},
   "outputs": [
    {
     "name": "stdout",
     "output_type": "stream",
     "text": [
      "[('Product2', 49), ('Product1', 50), ('Product3', 53)]\n"
     ]
    }
   ],
   "source": [
    "# Custom sorting\n",
    "items = [\n",
    "    (\"Product1\", 50),\n",
    "    (\"Product2\", 49),\n",
    "    (\"Product3\", 53)\n",
    "]\n",
    "items.sort(key=lambda item: item[1])\n",
    "print(items)"
   ]
  },
  {
   "cell_type": "code",
   "execution_count": 39,
   "metadata": {},
   "outputs": [
    {
     "name": "stdout",
     "output_type": "stream",
     "text": [
      "Price lists:  [49, 50, 53]\n",
      "Expensive Items:  [('Product1', 50), ('Product3', 53)]\n"
     ]
    }
   ],
   "source": [
    "# Map and filter \n",
    "prices = list(map(lambda item: item[1], items))\n",
    "expensive_items = list(filter(lambda item: item[1] >= 50, items))\n",
    "print(\"Price lists: \" , prices)\n",
    "print(\"Expensive Items: \" , expensive_items)"
   ]
  },
  {
   "cell_type": "code",
   "execution_count": 41,
   "metadata": {},
   "outputs": [
    {
     "name": "stdout",
     "output_type": "stream",
     "text": [
      "Price lists:  [49, 50, 53]\n",
      "Cheap Items:  [('Product2', 49)]\n"
     ]
    }
   ],
   "source": [
    "# List comprehensions \n",
    "prices = [item[1] for item in items]\n",
    "cheap_items = [item for item in items if item[1] < 50]\n",
    "print(\"Price lists: \" , prices)\n",
    "print(\"Cheap Items: \" , cheap_items)"
   ]
  },
  {
   "cell_type": "code",
   "execution_count": 43,
   "metadata": {},
   "outputs": [
    {
     "name": "stdout",
     "output_type": "stream",
     "text": [
      "[(1, 10), (2, 20), (3, 30)]\n"
     ]
    }
   ],
   "source": [
    "# Zip function \n",
    "list1 = [1, 2, 3]\n",
    "list2 = [10, 20, 30]\n",
    "combined = list(zip(list1, list2)) # Prints [(1, 10), (2, 20)]\n",
    "print(combined)"
   ]
  },
  {
   "cell_type": "code",
   "execution_count": 44,
   "metadata": {},
   "outputs": [
    {
     "name": "stdout",
     "output_type": "stream",
     "text": [
      "// TOPIC 8: ARRAY\n"
     ]
    }
   ],
   "source": [
    "topic8 = \"ARRAY\"\n",
    "print(\"// TOPIC 8: \" + topic8)"
   ]
  },
  {
   "cell_type": "code",
   "execution_count": 45,
   "metadata": {},
   "outputs": [],
   "source": [
    "from array import array \n",
    " \n",
    "numbers = array(\"i\", [1, 2, 3])"
   ]
  },
  {
   "cell_type": "code",
   "execution_count": 46,
   "metadata": {},
   "outputs": [
    {
     "name": "stdout",
     "output_type": "stream",
     "text": [
      "// TOPIC 9: SETS\n"
     ]
    }
   ],
   "source": [
    "topic9 = \"SETS\"\n",
    "print(\"// TOPIC 9: \" + topic9)"
   ]
  },
  {
   "cell_type": "code",
   "execution_count": 47,
   "metadata": {},
   "outputs": [
    {
     "name": "stdout",
     "output_type": "stream",
     "text": [
      "{1, 2, 3, 4, 5}\n",
      "{1}\n",
      "{2, 3, 4}\n",
      "{2, 3, 4, 5}\n"
     ]
    }
   ],
   "source": [
    "first = {1, 2, 3, 4}\n",
    "second = {1, 5}\n",
    "\n",
    "fs1 = first | second # { 1, 2, 3, 4, 5}\n",
    "fs2 = first & second # {1}\n",
    "fs3 = first - second # {2, 3, 4}\n",
    "fs4 = first ^ second # {2, 3, 4, 5}\n",
    "\n",
    "print(fs1)\n",
    "print(fs2)\n",
    "print(fs3)\n",
    "print(fs4)"
   ]
  },
  {
   "cell_type": "code",
   "execution_count": 48,
   "metadata": {},
   "outputs": [
    {
     "name": "stdout",
     "output_type": "stream",
     "text": [
      "// TOPIC 10: DICTIONARIES\n"
     ]
    }
   ],
   "source": [
    "topic10 = \"DICTIONARIES\"\n",
    "print(\"// TOPIC 10: \" + topic10)"
   ]
  },
  {
   "cell_type": "code",
   "execution_count": 53,
   "metadata": {},
   "outputs": [
    {
     "name": "stdout",
     "output_type": "stream",
     "text": [
      "{'x': 1, 'y': 2, 'z': 3}\n",
      "{0: 0, 1: 2, 2: 4, 3: 6, 4: 8}\n"
     ]
    }
   ],
   "source": [
    "point = {\"x\": 1, \"y\": 2}\n",
    "point = dict(x=1, y=2)\n",
    "point[\"z\"] = 3\n",
    "if \"a\" in point: \n",
    "    ... \n",
    "point.get(\"a\", 0)   # 0\n",
    "print(point)\n",
    "\n",
    "\n",
    "# Dictionary comprehensions \n",
    "values = {x: x * 2 for x in range(5)}\n",
    "print(values)\n"
   ]
  }
 ],
 "metadata": {
  "kernelspec": {
   "display_name": "Python 3",
   "language": "python",
   "name": "python3"
  },
  "language_info": {
   "codemirror_mode": {
    "name": "ipython",
    "version": 3
   },
   "file_extension": ".py",
   "mimetype": "text/x-python",
   "name": "python",
   "nbconvert_exporter": "python",
   "pygments_lexer": "ipython3",
   "version": "3.7.4"
  }
 },
 "nbformat": 4,
 "nbformat_minor": 2
}
