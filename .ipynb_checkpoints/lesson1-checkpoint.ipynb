{
 "cells": [
  {
   "cell_type": "code",
   "execution_count": 27,
   "metadata": {},
   "outputs": [],
   "source": [
    "a = 1       # integer\n",
    "b = 1.1     # float\n",
    "c = 1 + 2j  # complex number (a + bi)\n",
    "d = \"a\"     # string\n",
    "e = True    # boolean (True/False only)"
   ]
  },
  {
   "cell_type": "code",
   "execution_count": 29,
   "metadata": {},
   "outputs": [
    {
     "name": "stdout",
     "output_type": "stream",
     "text": [
      "6\n",
      "P\n",
      "n\n",
      "Pyt\n"
     ]
    }
   ],
   "source": [
    "x = \"Python\"\n",
    "length = len(x)\n",
    "print(length)\n",
    "print(x[0])\n",
    "print(x[-1])\n",
    "print(x[0:3])"
   ]
  },
  {
   "cell_type": "code",
   "execution_count": 30,
   "metadata": {},
   "outputs": [
    {
     "name": "stdout",
     "output_type": "stream",
     "text": [
      "GABRIELLE\n",
      "gabrielle\n",
      "2\n",
      "Gabryelle\n"
     ]
    }
   ],
   "source": [
    "x = \"Gabrielle\"\n",
    "print(x.upper())   # all letters will be transformed to upper-case \n",
    "print(x.lower())   # all letters will be transformed to lower-case\n",
    "print(x.find(\"b\")) #  Prints the index number of the letter \"b\"\n",
    "print(x.replace(\"i\", \"y\")) # This will replace the letter \"i\" to \"y\""
   ]
  }
 ],
 "metadata": {
  "kernelspec": {
   "display_name": "Python 3",
   "language": "python",
   "name": "python3"
  },
  "language_info": {
   "codemirror_mode": {
    "name": "ipython",
    "version": 3
   },
   "file_extension": ".py",
   "mimetype": "text/x-python",
   "name": "python",
   "nbconvert_exporter": "python",
   "pygments_lexer": "ipython3",
   "version": "3.7.4"
  }
 },
 "nbformat": 4,
 "nbformat_minor": 2
}
